{
 "cells": [
  {
   "cell_type": "markdown",
   "metadata": {},
   "source": [
    "# pandas - \"A melhor biblioteca do Python para Dados\"\n",
    "\n",
    "- Quase sempre que você for trabalhar com dados no Python você vai usar o pandas, então é importante você saber trabalhar com essa biblioteca muito bem\n",
    "\n",
    "- Vamos aprender os principais comandos e os princípios básicos do pandas\n",
    "\n",
    "- Faça o download do Gabarito desse arquivo e use como uma cartilha de consulta (Link na descrição)"
   ]
  },
  {
   "cell_type": "markdown",
   "metadata": {},
   "source": [
    "### Importando o pandas"
   ]
  },
  {
   "cell_type": "code",
   "execution_count": 2,
   "metadata": {},
   "outputs": [],
   "source": [
    "import pandas as pd"
   ]
  },
  {
   "cell_type": "markdown",
   "metadata": {},
   "source": [
    "### Criando um dataframe a partir de um dicionário"
   ]
  },
  {
   "cell_type": "code",
   "execution_count": 3,
   "metadata": {},
   "outputs": [],
   "source": [
    "# dataframe = pd.DataFrame()\n",
    "sales = {\n",
    "        'data': ['15/02/2021', '16/02/2021'],\n",
    "         'valor': [500, 300],\n",
    "         'produto': ['feijao', 'arroz'],\n",
    "         'qtde': [50, 70],\n",
    "        }\n",
    "\n",
    "sales_df = pd.DataFrame(sales)"
   ]
  },
  {
   "cell_type": "markdown",
   "metadata": {},
   "source": [
    "### Visualização dos Dados\n",
    "    - print\n",
    "    - display"
   ]
  },
  {
   "cell_type": "code",
   "execution_count": 4,
   "metadata": {},
   "outputs": [
    {
     "name": "stdout",
     "output_type": "stream",
     "text": [
      "         data  valor produto  qtde\n",
      "0  15/02/2021    500  feijao    50\n",
      "1  16/02/2021    300   arroz    70\n"
     ]
    }
   ],
   "source": [
    "print(sales_df)"
   ]
  },
  {
   "cell_type": "markdown",
   "metadata": {},
   "source": [
    "### Importando arquivos e bases de dados"
   ]
  },
  {
   "cell_type": "code",
   "execution_count": 5,
   "metadata": {},
   "outputs": [
    {
     "name": "stdout",
     "output_type": "stream",
     "text": [
      "       Código Venda       Data              ID Loja            Produto  \\\n",
      "0                 1 2019-01-01   Iguatemi Esplanada     Sapato Estampa   \n",
      "1                 1 2019-01-01   Iguatemi Esplanada           Camiseta   \n",
      "2                 1 2019-01-01   Iguatemi Esplanada      Sapato Xadrez   \n",
      "3                 2 2019-01-02       Norte Shopping            Relógio   \n",
      "4                 2 2019-01-02       Norte Shopping       Chinelo Liso   \n",
      "...             ...        ...                  ...                ...   \n",
      "93905         65012 2019-11-30  Shopping Vila Velha     Mochila Xadrez   \n",
      "93906         65013 2019-11-30    Ribeirão Shopping  Pulseira Listrado   \n",
      "93907         65013 2019-11-30    Ribeirão Shopping     Cueca Listrado   \n",
      "93908         65014 2019-11-30     Shopping Morumbi     Pulseira Linho   \n",
      "93909         65014 2019-11-30     Shopping Morumbi      Casaco Xadrez   \n",
      "\n",
      "       Quantidade  Valor Unitário  Valor Final  \n",
      "0               1             358          358  \n",
      "1               2             180          360  \n",
      "2               1             368          368  \n",
      "3               3             200          600  \n",
      "4               1              71           71  \n",
      "...           ...             ...          ...  \n",
      "93905           2             283          566  \n",
      "93906           2              79          158  \n",
      "93907           3              67          201  \n",
      "93908           5             114          570  \n",
      "93909           4             259         1036  \n",
      "\n",
      "[93910 rows x 7 columns]\n"
     ]
    }
   ],
   "source": [
    "sales_df = pd.read_excel('./databases/Vendas.xlsx')\n",
    "print(sales_df)"
   ]
  },
  {
   "cell_type": "markdown",
   "metadata": {},
   "source": [
    "### Resumos de Visualização de Dados simples e úteis\n",
    "    - head\n",
    "    - shape\n",
    "    - describe"
   ]
  },
  {
   "cell_type": "code",
   "execution_count": 6,
   "metadata": {},
   "outputs": [
    {
     "name": "stdout",
     "output_type": "stream",
     "text": [
      "   Código Venda       Data                     ID Loja  \\\n",
      "0             1 2019-01-01          Iguatemi Esplanada   \n",
      "1             1 2019-01-01          Iguatemi Esplanada   \n",
      "2             1 2019-01-01          Iguatemi Esplanada   \n",
      "3             2 2019-01-02              Norte Shopping   \n",
      "4             2 2019-01-02              Norte Shopping   \n",
      "5             3 2019-01-02  Rio Mar Shopping Fortaleza   \n",
      "6             5 2019-01-02              Shopping Barra   \n",
      "7             6 2019-01-02         Shopping Ibirapuera   \n",
      "8             7 2019-01-02              Norte Shopping   \n",
      "9             7 2019-01-02              Norte Shopping   \n",
      "\n",
      "                  Produto  Quantidade  Valor Unitário  Valor Final  \n",
      "0          Sapato Estampa           1             358          358  \n",
      "1                Camiseta           2             180          360  \n",
      "2           Sapato Xadrez           1             368          368  \n",
      "3                 Relógio           3             200          600  \n",
      "4            Chinelo Liso           1              71           71  \n",
      "5             Cinto Linho           1             248          248  \n",
      "6                   Calça           1             170          170  \n",
      "7           Polo Listrado           4             149          596  \n",
      "8  Camisa Gola V Listrado           1             116          116  \n",
      "9             Camisa Liso           1             105          105  \n",
      "       Código Venda    Quantidade  Valor Unitário   Valor Final\n",
      "count  93910.000000  93910.000000    93910.000000  93910.000000\n",
      "mean   32464.762155      2.166553      191.725886    414.862656\n",
      "std    18809.007093      1.258732      145.215519    434.846228\n",
      "min        1.000000      1.000000       30.000000     30.000000\n",
      "25%    16204.000000      1.000000      100.000000    156.000000\n",
      "50%    32367.000000      2.000000      155.000000    274.000000\n",
      "75%    48793.750000      3.000000      248.000000    524.000000\n",
      "max    65014.000000      5.000000      750.000000   3750.000000\n"
     ]
    }
   ],
   "source": [
    "print(sales_df.head(10))\n",
    "print(sales_df.describe())"
   ]
  },
  {
   "cell_type": "markdown",
   "metadata": {},
   "source": [
    "### Pegar 1 coluna (e os pd.Series)"
   ]
  },
  {
   "cell_type": "code",
   "execution_count": null,
   "metadata": {},
   "outputs": [],
   "source": []
  },
  {
   "cell_type": "code",
   "execution_count": 7,
   "metadata": {},
   "outputs": [
    {
     "name": "stdout",
     "output_type": "stream",
     "text": [
      "                 Produto              ID Loja\n",
      "0         Sapato Estampa   Iguatemi Esplanada\n",
      "1               Camiseta   Iguatemi Esplanada\n",
      "2          Sapato Xadrez   Iguatemi Esplanada\n",
      "3                Relógio       Norte Shopping\n",
      "4           Chinelo Liso       Norte Shopping\n",
      "...                  ...                  ...\n",
      "93905     Mochila Xadrez  Shopping Vila Velha\n",
      "93906  Pulseira Listrado    Ribeirão Shopping\n",
      "93907     Cueca Listrado    Ribeirão Shopping\n",
      "93908     Pulseira Linho     Shopping Morumbi\n",
      "93909      Casaco Xadrez     Shopping Morumbi\n",
      "\n",
      "[93910 rows x 2 columns]\n"
     ]
    }
   ],
   "source": [
    "products = sales_df[['Produto', 'ID Loja']]\n",
    "print(products)"
   ]
  },
  {
   "cell_type": "markdown",
   "metadata": {},
   "source": [
    "### .loc, um método muito importante\n",
    "    - Pegar 1 linha\n",
    "    - Pegar linhas de acordo com alguma condição\n",
    "    - Pegar linhas e colunas específicas\n",
    "    - Pegar 1 valor específico"
   ]
  },
  {
   "cell_type": "code",
   "execution_count": 9,
   "metadata": {},
   "outputs": [
    {
     "name": "stdout",
     "output_type": "stream",
     "text": [
      "Camiseta\n"
     ]
    }
   ],
   "source": [
    "# Get a specific line\n",
    "# display(sales_df.loc[1:5])\n",
    "# Get lines according some codition\n",
    "\n",
    "# sales_norteshopping_df = (sales_df.loc[sales_df['ID Loja'] == 'Norte Shopping' ])\n",
    "# display(sales_norteshopping_df)\n",
    "\n",
    "# sales_norteshopping_df = (sales_df.loc[sales_df['ID Loja'] == 'Norte Shopping', ['ID Loja', 'Produto', 'Quantidade'] ])\n",
    "# print(sales_norteshopping_df)\n",
    "\n",
    "print(sales_df.loc[1, 'Produto'])"
   ]
  },
  {
   "cell_type": "markdown",
   "metadata": {},
   "source": [
    "### Adicionar 1 coluna"
   ]
  },
  {
   "cell_type": "code",
   "execution_count": 24,
   "metadata": {},
   "outputs": [
    {
     "name": "stdout",
     "output_type": "stream",
     "text": [
      "      Código Venda       Data                     ID Loja           Produto  \\\n",
      "0                1 2019-01-01          Iguatemi Esplanada    Sapato Estampa   \n",
      "1                1 2019-01-01          Iguatemi Esplanada          Camiseta   \n",
      "2                1 2019-01-01          Iguatemi Esplanada     Sapato Xadrez   \n",
      "3                2 2019-01-02              Norte Shopping           Relógio   \n",
      "4                2 2019-01-02              Norte Shopping      Chinelo Liso   \n",
      "...            ...        ...                         ...               ...   \n",
      "7084         69996 2019-12-26  Center Shopping Uberlândia    Short Listrado   \n",
      "7085         69996 2019-12-26  Center Shopping Uberlândia           Mochila   \n",
      "7086         69996 2019-12-26  Center Shopping Uberlândia  Pulseira Estampa   \n",
      "7087         69997 2019-12-26           Ribeirão Shopping   Camisa Listrado   \n",
      "7088         69997 2019-12-26           Ribeirão Shopping       Short Linho   \n",
      "\n",
      "      Quantidade  Valor Unitário  Valor Final  Comissão  Imposto  \n",
      "0              1             358          358     17.90        0  \n",
      "1              2             180          360     18.00        0  \n",
      "2              1             368          368     18.40        0  \n",
      "3              3             200          600     30.00        0  \n",
      "4              1              71           71      3.55        0  \n",
      "...          ...             ...          ...       ...      ...  \n",
      "7084           2             102          204     10.20        0  \n",
      "7085           4             270         1080     54.00        0  \n",
      "7086           1              87           87      4.35        0  \n",
      "7087           1             108          108      5.40        0  \n",
      "7088           2             133          266     13.30        0  \n",
      "\n",
      "[108088 rows x 9 columns]\n",
      "      Código Venda       Data                     ID Loja           Produto  \\\n",
      "0                1 2019-01-01          Iguatemi Esplanada    Sapato Estampa   \n",
      "1                1 2019-01-01          Iguatemi Esplanada          Camiseta   \n",
      "2                1 2019-01-01          Iguatemi Esplanada     Sapato Xadrez   \n",
      "3                2 2019-01-02              Norte Shopping           Relógio   \n",
      "4                2 2019-01-02              Norte Shopping      Chinelo Liso   \n",
      "...            ...        ...                         ...               ...   \n",
      "7084         69996 2019-12-26  Center Shopping Uberlândia    Short Listrado   \n",
      "7085         69996 2019-12-26  Center Shopping Uberlândia           Mochila   \n",
      "7086         69996 2019-12-26  Center Shopping Uberlândia  Pulseira Estampa   \n",
      "7087         69997 2019-12-26           Ribeirão Shopping   Camisa Listrado   \n",
      "7088         69997 2019-12-26           Ribeirão Shopping       Short Linho   \n",
      "\n",
      "      Quantidade  Valor Unitário  Valor Final  Comissão  Imposto  \n",
      "0              1             358          358     17.90        0  \n",
      "1              2             180          360     18.00        0  \n",
      "2              1             368          368     18.40        0  \n",
      "3              3             200          600     30.00        0  \n",
      "4              1              71           71      3.55        0  \n",
      "...          ...             ...          ...       ...      ...  \n",
      "7084           2             102          204     10.20        0  \n",
      "7085           4             270         1080     54.00        0  \n",
      "7086           1              87           87      4.35        0  \n",
      "7087           1             108          108      5.40        0  \n",
      "7088           2             133          266     13.30        0  \n",
      "\n",
      "[108088 rows x 9 columns]\n"
     ]
    }
   ],
   "source": [
    "# from an existing columns\n",
    "sales_df['Comissão'] = sales_df['Valor Final'] * 0.05\n",
    "\n",
    "print(sales_df)\n",
    "\n",
    "# Create a column with a standard value\n",
    "sales_df.loc[:, \"Imposto\"] = 0\n",
    "print(sales_df)"
   ]
  },
  {
   "cell_type": "markdown",
   "metadata": {},
   "source": [
    "### Adicionar 1 linha\n",
    "    - Linhas de um complemento da base de dados"
   ]
  },
  {
   "cell_type": "code",
   "execution_count": 18,
   "metadata": {},
   "outputs": [
    {
     "name": "stdout",
     "output_type": "stream",
     "text": [
      "      Código Venda       Data                     ID Loja           Produto  \\\n",
      "0            65014 2019-12-01            Shopping Morumbi    Sunga Listrado   \n",
      "1            65014 2019-12-01            Shopping Morumbi   Casaco Listrado   \n",
      "2            65016 2019-12-01           Iguatemi Campinas   Sapato Listrado   \n",
      "3            65016 2019-12-01           Iguatemi Campinas            Casaco   \n",
      "4            65017 2019-12-01          Shopping SP Market        Gorro Liso   \n",
      "...            ...        ...                         ...               ...   \n",
      "7084         69996 2019-12-26  Center Shopping Uberlândia    Short Listrado   \n",
      "7085         69996 2019-12-26  Center Shopping Uberlândia           Mochila   \n",
      "7086         69996 2019-12-26  Center Shopping Uberlândia  Pulseira Estampa   \n",
      "7087         69997 2019-12-26           Ribeirão Shopping   Camisa Listrado   \n",
      "7088         69997 2019-12-26           Ribeirão Shopping       Short Linho   \n",
      "\n",
      "      Quantidade  Valor Unitário  Valor Final  \n",
      "0              5             114          570  \n",
      "1              1             269          269  \n",
      "2              2             363          726  \n",
      "3              1             250          250  \n",
      "4              3              92          276  \n",
      "...          ...             ...          ...  \n",
      "7084           2             102          204  \n",
      "7085           4             270         1080  \n",
      "7086           1              87           87  \n",
      "7087           1             108          108  \n",
      "7088           2             133          266  \n",
      "\n",
      "[7089 rows x 7 columns]\n",
      "      Código Venda       Data                     ID Loja           Produto  \\\n",
      "0                1 2019-01-01          Iguatemi Esplanada    Sapato Estampa   \n",
      "1                1 2019-01-01          Iguatemi Esplanada          Camiseta   \n",
      "2                1 2019-01-01          Iguatemi Esplanada     Sapato Xadrez   \n",
      "3                2 2019-01-02              Norte Shopping           Relógio   \n",
      "4                2 2019-01-02              Norte Shopping      Chinelo Liso   \n",
      "...            ...        ...                         ...               ...   \n",
      "7084         69996 2019-12-26  Center Shopping Uberlândia    Short Listrado   \n",
      "7085         69996 2019-12-26  Center Shopping Uberlândia           Mochila   \n",
      "7086         69996 2019-12-26  Center Shopping Uberlândia  Pulseira Estampa   \n",
      "7087         69997 2019-12-26           Ribeirão Shopping   Camisa Listrado   \n",
      "7088         69997 2019-12-26           Ribeirão Shopping       Short Linho   \n",
      "\n",
      "      Quantidade  Valor Unitário  Valor Final  Comissão  Imposto  \n",
      "0              1             358          358     17.90      0.0  \n",
      "1              2             180          360     18.00      0.0  \n",
      "2              1             368          368     18.40      0.0  \n",
      "3              3             200          600     30.00      0.0  \n",
      "4              1              71           71      3.55      0.0  \n",
      "...          ...             ...          ...       ...      ...  \n",
      "7084           2             102          204       NaN      NaN  \n",
      "7085           4             270         1080       NaN      NaN  \n",
      "7086           1              87           87       NaN      NaN  \n",
      "7087           1             108          108       NaN      NaN  \n",
      "7088           2             133          266       NaN      NaN  \n",
      "\n",
      "[108088 rows x 9 columns]\n"
     ]
    },
    {
     "name": "stderr",
     "output_type": "stream",
     "text": [
      "C:\\Users\\Athirson\\AppData\\Local\\Temp\\ipykernel_5536\\964580382.py:4: FutureWarning: The frame.append method is deprecated and will be removed from pandas in a future version. Use pandas.concat instead.\n",
      "  sales_df = sales_df.append(sales_dec_df)\n"
     ]
    }
   ],
   "source": [
    "sales_dec_df = pd.read_excel('./databases/Vendas - Dez.xlsx')\n",
    "print(sales_dec_df)\n",
    "\n",
    "sales_df = sales_df.append(sales_dec_df)\n",
    "print(sales_df)"
   ]
  },
  {
   "cell_type": "markdown",
   "metadata": {},
   "source": [
    "### Excluir linhas e colunas"
   ]
  },
  {
   "cell_type": "code",
   "execution_count": 25,
   "metadata": {},
   "outputs": [
    {
     "name": "stdout",
     "output_type": "stream",
     "text": [
      "      Código Venda       Data                     ID Loja           Produto  \\\n",
      "0                1 2019-01-01          Iguatemi Esplanada    Sapato Estampa   \n",
      "1                1 2019-01-01          Iguatemi Esplanada          Camiseta   \n",
      "2                1 2019-01-01          Iguatemi Esplanada     Sapato Xadrez   \n",
      "3                2 2019-01-02              Norte Shopping           Relógio   \n",
      "4                2 2019-01-02              Norte Shopping      Chinelo Liso   \n",
      "...            ...        ...                         ...               ...   \n",
      "7084         69996 2019-12-26  Center Shopping Uberlândia    Short Listrado   \n",
      "7085         69996 2019-12-26  Center Shopping Uberlândia           Mochila   \n",
      "7086         69996 2019-12-26  Center Shopping Uberlândia  Pulseira Estampa   \n",
      "7087         69997 2019-12-26           Ribeirão Shopping   Camisa Listrado   \n",
      "7088         69997 2019-12-26           Ribeirão Shopping       Short Linho   \n",
      "\n",
      "      Quantidade  Valor Unitário  Valor Final  Comissão  \n",
      "0              1             358          358     17.90  \n",
      "1              2             180          360     18.00  \n",
      "2              1             368          368     18.40  \n",
      "3              3             200          600     30.00  \n",
      "4              1              71           71      3.55  \n",
      "...          ...             ...          ...       ...  \n",
      "7084           2             102          204     10.20  \n",
      "7085           4             270         1080     54.00  \n",
      "7086           1              87           87      4.35  \n",
      "7087           1             108          108      5.40  \n",
      "7088           2             133          266     13.30  \n",
      "\n",
      "[108088 rows x 8 columns]\n"
     ]
    }
   ],
   "source": [
    "sales_df = sales_df.drop('Imposto', axis = 1)\n",
    "print(sales_df)"
   ]
  },
  {
   "cell_type": "markdown",
   "metadata": {},
   "source": [
    "### Valores Vazios\n",
    "    - Deletar linhas/colunas vazias\n",
    "    - Deletar linhas que possuem valores vazios\n",
    "    - Preencher valores vazios (média e último valor)"
   ]
  },
  {
   "cell_type": "code",
   "execution_count": 30,
   "metadata": {},
   "outputs": [
    {
     "name": "stdout",
     "output_type": "stream",
     "text": [
      "      Código Venda       Data                     ID Loja           Produto  \\\n",
      "0                1 2019-01-01          Iguatemi Esplanada    Sapato Estampa   \n",
      "1                1 2019-01-01          Iguatemi Esplanada          Camiseta   \n",
      "2                1 2019-01-01          Iguatemi Esplanada     Sapato Xadrez   \n",
      "3                2 2019-01-02              Norte Shopping           Relógio   \n",
      "4                2 2019-01-02              Norte Shopping      Chinelo Liso   \n",
      "...            ...        ...                         ...               ...   \n",
      "7084         69996 2019-12-26  Center Shopping Uberlândia    Short Listrado   \n",
      "7085         69996 2019-12-26  Center Shopping Uberlândia           Mochila   \n",
      "7086         69996 2019-12-26  Center Shopping Uberlândia  Pulseira Estampa   \n",
      "7087         69997 2019-12-26           Ribeirão Shopping   Camisa Listrado   \n",
      "7088         69997 2019-12-26           Ribeirão Shopping       Short Linho   \n",
      "\n",
      "      Quantidade  Valor Unitário  Valor Final  Comissão  \n",
      "0              1             358          358     17.90  \n",
      "1              2             180          360     18.00  \n",
      "2              1             368          368     18.40  \n",
      "3              3             200          600     30.00  \n",
      "4              1              71           71      3.55  \n",
      "...          ...             ...          ...       ...  \n",
      "7084           2             102          204     10.20  \n",
      "7085           4             270         1080     54.00  \n",
      "7086           1              87           87      4.35  \n",
      "7087           1             108          108      5.40  \n",
      "7088           2             133          266     13.30  \n",
      "\n",
      "[108088 rows x 8 columns]\n"
     ]
    }
   ],
   "source": [
    "# Delete values\n",
    "# sales_df = sales_df.dropna(how = 'all')\n",
    "# sales_df = sales_df.dropna()\n",
    "\n",
    "# Fill with the column mean\n",
    "# sales_df['Comissão'] = sales_df['Comissão'].fillna(sales_df['Comissão'].mean())\n",
    "# print(sales_df)\n",
    "\n",
    "# Fill with the latest value\n",
    "sales_df = sales_df.ffill()\n",
    "print(sales_df)"
   ]
  },
  {
   "cell_type": "markdown",
   "metadata": {},
   "source": [
    "### Calcular Indicadores\n",
    "    - Groupby\n",
    "    - Value Counts"
   ]
  },
  {
   "cell_type": "code",
   "execution_count": 36,
   "metadata": {},
   "outputs": [
    {
     "name": "stdout",
     "output_type": "stream",
     "text": [
      "                  Valor Final\n",
      "Produto                      \n",
      "Bermuda                290700\n",
      "Bermuda Estampa        310284\n",
      "Bermuda Linho          420225\n",
      "Bermuda Liso           294375\n",
      "Bermuda Listrado       313449\n",
      "...                       ...\n",
      "Tênis Estampa          489728\n",
      "Tênis Linho            573594\n",
      "Tênis Liso             508592\n",
      "Tênis Listrado         506970\n",
      "Tênis Xadrez           489251\n",
      "\n",
      "[120 rows x 1 columns]\n",
      "                  Valor Final\n",
      "Produto                      \n",
      "Bermuda            325.896861\n",
      "Bermuda Estampa    364.611046\n",
      "Bermuda Linho      429.239019\n",
      "Bermuda Liso       344.701405\n",
      "Bermuda Listrado   347.119601\n",
      "...                       ...\n",
      "Tênis Estampa      546.571429\n",
      "Tênis Linho        631.711454\n",
      "Tênis Liso         570.810325\n",
      "Tênis Listrado     568.989899\n",
      "Tênis Xadrez       541.806202\n",
      "\n",
      "[120 rows x 1 columns]\n"
     ]
    }
   ],
   "source": [
    "# Value counts\n",
    "# deals_per_store = sales_df['ID Loja'].value_counts()\n",
    "# print(deals_per_store)\n",
    "\n",
    "# Groupby\n",
    "sum_profits_product = sales_df[['Produto', 'Valor Final']].groupby('Produto').sum()\n",
    "mean_profits_product = sales_df[['Produto', 'Valor Final']].groupby('Produto').mean()\n",
    "print(sum_profits_product)\n",
    "print(mean_profits_product)"
   ]
  },
  {
   "cell_type": "markdown",
   "metadata": {},
   "source": [
    "### Mesclar 2 dataframes (Procurar informações de um dataframe em outro)"
   ]
  },
  {
   "cell_type": "code",
   "execution_count": 38,
   "metadata": {},
   "outputs": [
    {
     "name": "stdout",
     "output_type": "stream",
     "text": [
      "        Código Venda       Data             ID Loja                 Produto  \\\n",
      "0                  1 2019-01-01  Iguatemi Esplanada          Sapato Estampa   \n",
      "1                  1 2019-01-01  Iguatemi Esplanada                Camiseta   \n",
      "2                  1 2019-01-01  Iguatemi Esplanada           Sapato Xadrez   \n",
      "3                 21 2019-01-02  Iguatemi Esplanada  Camisa Gola V Listrado   \n",
      "4                 34 2019-01-02  Iguatemi Esplanada         Sapato Listrado   \n",
      "...              ...        ...                 ...                     ...   \n",
      "108083         69846 2019-12-25   Salvador Shopping           Short Estampa   \n",
      "108084         69846 2019-12-25   Salvador Shopping           Tênis Estampa   \n",
      "108085         69850 2019-12-25   Salvador Shopping           Calça Estampa   \n",
      "108086         69972 2019-12-26   Salvador Shopping              Terno Liso   \n",
      "108087         69972 2019-12-26   Salvador Shopping          Sapato Estampa   \n",
      "\n",
      "        Quantidade  Valor Unitário  Valor Final  Comissão   Gerente  \n",
      "0                1             358          358     17.90  Salvador  \n",
      "1                2             180          360     18.00  Salvador  \n",
      "2                1             368          368     18.40  Salvador  \n",
      "3                2             116          232     11.60  Salvador  \n",
      "4                1             363          363     18.15  Salvador  \n",
      "...            ...             ...          ...       ...       ...  \n",
      "108083           2              96          192      9.60    Mateus  \n",
      "108084           5             256         1280     64.00    Mateus  \n",
      "108085           4             177          708     35.40    Mateus  \n",
      "108086           3             720         2160    108.00    Mateus  \n",
      "108087           5             358         1790     89.50    Mateus  \n",
      "\n",
      "[108088 rows x 9 columns]\n"
     ]
    }
   ],
   "source": [
    "manager_df = pd.read_excel('./databases/Gerentes.xlsx')\n",
    "# print(manager_df)\n",
    "\n",
    "# Merge databases\n",
    "sales_df = sales_df.merge(manager_df)\n",
    "print(sales_df)"
   ]
  },
  {
   "cell_type": "markdown",
   "metadata": {},
   "source": [
    "### Como continuar aprendendo?\n",
    "\n",
    "### Minicurso Gratuito de Análise de Dados com Python na Descrição"
   ]
  }
 ],
 "metadata": {
  "kernelspec": {
   "display_name": "Python 3 (ipykernel)",
   "language": "python",
   "name": "python3"
  },
  "language_info": {
   "codemirror_mode": {
    "name": "ipython",
    "version": 3
   },
   "file_extension": ".py",
   "mimetype": "text/x-python",
   "name": "python",
   "nbconvert_exporter": "python",
   "pygments_lexer": "ipython3",
   "version": "3.10.0"
  }
 },
 "nbformat": 4,
 "nbformat_minor": 4
}
